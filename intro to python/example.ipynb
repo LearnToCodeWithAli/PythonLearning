{
 "cells": [
  {
   "cell_type": "code",
   "id": "initial_id",
   "metadata": {
    "collapsed": true,
    "ExecuteTime": {
     "end_time": "2025-09-26T03:22:09.183498Z",
     "start_time": "2025-09-26T03:22:09.179986Z"
    }
   },
   "source": [
    "i = 5\n",
    "while i <= 5:\n",
    "    print(i)\n",
    "    i = i + 1"
   ],
   "outputs": [
    {
     "name": "stdout",
     "output_type": "stream",
     "text": [
      "5\n"
     ]
    }
   ],
   "execution_count": 2
  },
  {
   "metadata": {
    "ExecuteTime": {
     "end_time": "2025-09-26T03:22:09.239536Z",
     "start_time": "2025-09-26T03:22:09.236850Z"
    }
   },
   "cell_type": "code",
   "source": [
    "h = i + 10\n",
    "print(h)"
   ],
   "id": "dda20c2eca08ed1a",
   "outputs": [
    {
     "name": "stdout",
     "output_type": "stream",
     "text": [
      "16\n"
     ]
    }
   ],
   "execution_count": 3
  },
  {
   "metadata": {
    "ExecuteTime": {
     "end_time": "2025-09-26T03:22:09.250413Z",
     "start_time": "2025-09-26T03:22:09.248174Z"
    }
   },
   "cell_type": "markdown",
   "source": "##### This is a header",
   "id": "ba60a723f7037c8b"
  },
  {
   "metadata": {},
   "cell_type": "markdown",
   "source": "# This is a header",
   "id": "cfc63721af5e5c7a"
  },
  {
   "metadata": {
    "ExecuteTime": {
     "end_time": "2025-09-26T03:23:19.178735Z",
     "start_time": "2025-09-26T03:23:19.176725Z"
    }
   },
   "cell_type": "code",
   "source": "",
   "id": "57e5196be5eb3012",
   "outputs": [],
   "execution_count": null
  }
 ],
 "metadata": {
  "kernelspec": {
   "display_name": "Python 3",
   "language": "python",
   "name": "python3"
  },
  "language_info": {
   "codemirror_mode": {
    "name": "ipython",
    "version": 2
   },
   "file_extension": ".py",
   "mimetype": "text/x-python",
   "name": "python",
   "nbconvert_exporter": "python",
   "pygments_lexer": "ipython2",
   "version": "2.7.6"
  }
 },
 "nbformat": 4,
 "nbformat_minor": 5
}
